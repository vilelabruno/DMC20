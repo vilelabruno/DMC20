{
 "nbformat": 4,
 "nbformat_minor": 2,
 "metadata": {
  "language_info": {
   "name": "python",
   "codemirror_mode": {
    "name": "ipython",
    "version": 3
   },
   "version": "3.7.5-final"
  },
  "orig_nbformat": 2,
  "file_extension": ".py",
  "mimetype": "text/x-python",
  "name": "python",
  "npconvert_exporter": "python",
  "pygments_lexer": "ipython3",
  "version": 3,
  "kernelspec": {
   "name": "python37564bitvenvvenv036226a9d98a4a56ba8fe228a7456174",
   "display_name": "Python 3.7.5 64-bit ('venv': venv)"
  }
 },
 "cells": [
  {
   "cell_type": "code",
   "execution_count": 1,
   "metadata": {},
   "outputs": [],
   "source": [
    "import pandas as pd\n",
    "from datetime import timedelta\n",
    "import matplotlib.pyplot as plt\n",
    "items = pd.read_csv(\"data/items.csv\", sep=\"|\")\n",
    "infos = pd.read_csv(\"data/infos.csv\", sep=\"|\")\n",
    "orders = pd.read_csv(\"data/orders.csv\", sep=\"|\")\n",
    "\n",
    "train = pd.read_csv('data/trainNew.csv')\n",
    ""
   ]
  },
  {
   "cell_type": "code",
   "execution_count": 4,
   "metadata": {},
   "outputs": [
    {
     "output_type": "execute_result",
     "data": {
      "text/plain": "       Unnamed: 0  itemID  weekNumber  order|sum  salesPrice|sum  \\\n0               0       1           1          2            6.22   \n1               1       1           2        314          811.71   \n2               2       1           3         35           99.52   \n3               3       1           4          2            6.22   \n4               4       1           5          1            3.11   \n...           ...     ...         ...        ...             ...   \n39951       39951   10450          12          6          266.88   \n39952       39952   10459           8          1           14.71   \n39953       39953   10460           7          1          325.67   \n39954       39954   10462           7          1          304.30   \n39955       39955   10463          10          1          282.16   \n\n       salesPrice|mean  salesPrice|std  simulationPrice   promotion  brand  \\\n0                 3.11             0.0             3.43         NaN      0   \n1                 3.11             0.0             3.43         NaN      0   \n2                 3.11             0.0             3.43         NaN      0   \n3                 3.11             0.0             3.43         NaN      0   \n4                 3.11             NaN             3.43         NaN      0   \n...                ...             ...              ...         ...    ...   \n39951            44.48             0.0            44.43  2018-07-10    182   \n39952            14.71             NaN            14.71         NaN    180   \n39953           325.67             NaN           325.67         NaN      0   \n39954           304.30             NaN           304.30         NaN    180   \n39955           282.16             NaN           282.16         NaN      0   \n\n       manufacturer  customerRating  category1  category2  category3  \\\n0                 1            4.38          1          1          1   \n1                 1            4.38          1          1          1   \n2                 1            4.38          1          1          1   \n3                 1            4.38          1          1          1   \n4                 1            4.38          1          1          1   \n...             ...             ...        ...        ...        ...   \n39951           227            0.00          8         44          8   \n39952           253            0.00          8         44          8   \n39953           253            0.00          8         44          8   \n39954           253            0.00          8         44          8   \n39955           253            0.00          8         44          8   \n\n       recommendedRetailPrice  \n0                        8.84  \n1                        8.84  \n2                        8.84  \n3                        8.84  \n4                        8.84  \n...                       ...  \n39951                   36.78  \n39952                   56.57  \n39953                  163.81  \n39954                  166.97  \n39955                  154.82  \n\n[39956 rows x 16 columns]",
      "text/html": "<div>\n<style scoped>\n    .dataframe tbody tr th:only-of-type {\n        vertical-align: middle;\n    }\n\n    .dataframe tbody tr th {\n        vertical-align: top;\n    }\n\n    .dataframe thead th {\n        text-align: right;\n    }\n</style>\n<table border=\"1\" class=\"dataframe\">\n  <thead>\n    <tr style=\"text-align: right;\">\n      <th></th>\n      <th>Unnamed: 0</th>\n      <th>itemID</th>\n      <th>weekNumber</th>\n      <th>order|sum</th>\n      <th>salesPrice|sum</th>\n      <th>salesPrice|mean</th>\n      <th>salesPrice|std</th>\n      <th>simulationPrice</th>\n      <th>promotion</th>\n      <th>brand</th>\n      <th>manufacturer</th>\n      <th>customerRating</th>\n      <th>category1</th>\n      <th>category2</th>\n      <th>category3</th>\n      <th>recommendedRetailPrice</th>\n    </tr>\n  </thead>\n  <tbody>\n    <tr>\n      <th>0</th>\n      <td>0</td>\n      <td>1</td>\n      <td>1</td>\n      <td>2</td>\n      <td>6.22</td>\n      <td>3.11</td>\n      <td>0.0</td>\n      <td>3.43</td>\n      <td>NaN</td>\n      <td>0</td>\n      <td>1</td>\n      <td>4.38</td>\n      <td>1</td>\n      <td>1</td>\n      <td>1</td>\n      <td>8.84</td>\n    </tr>\n    <tr>\n      <th>1</th>\n      <td>1</td>\n      <td>1</td>\n      <td>2</td>\n      <td>314</td>\n      <td>811.71</td>\n      <td>3.11</td>\n      <td>0.0</td>\n      <td>3.43</td>\n      <td>NaN</td>\n      <td>0</td>\n      <td>1</td>\n      <td>4.38</td>\n      <td>1</td>\n      <td>1</td>\n      <td>1</td>\n      <td>8.84</td>\n    </tr>\n    <tr>\n      <th>2</th>\n      <td>2</td>\n      <td>1</td>\n      <td>3</td>\n      <td>35</td>\n      <td>99.52</td>\n      <td>3.11</td>\n      <td>0.0</td>\n      <td>3.43</td>\n      <td>NaN</td>\n      <td>0</td>\n      <td>1</td>\n      <td>4.38</td>\n      <td>1</td>\n      <td>1</td>\n      <td>1</td>\n      <td>8.84</td>\n    </tr>\n    <tr>\n      <th>3</th>\n      <td>3</td>\n      <td>1</td>\n      <td>4</td>\n      <td>2</td>\n      <td>6.22</td>\n      <td>3.11</td>\n      <td>0.0</td>\n      <td>3.43</td>\n      <td>NaN</td>\n      <td>0</td>\n      <td>1</td>\n      <td>4.38</td>\n      <td>1</td>\n      <td>1</td>\n      <td>1</td>\n      <td>8.84</td>\n    </tr>\n    <tr>\n      <th>4</th>\n      <td>4</td>\n      <td>1</td>\n      <td>5</td>\n      <td>1</td>\n      <td>3.11</td>\n      <td>3.11</td>\n      <td>NaN</td>\n      <td>3.43</td>\n      <td>NaN</td>\n      <td>0</td>\n      <td>1</td>\n      <td>4.38</td>\n      <td>1</td>\n      <td>1</td>\n      <td>1</td>\n      <td>8.84</td>\n    </tr>\n    <tr>\n      <th>...</th>\n      <td>...</td>\n      <td>...</td>\n      <td>...</td>\n      <td>...</td>\n      <td>...</td>\n      <td>...</td>\n      <td>...</td>\n      <td>...</td>\n      <td>...</td>\n      <td>...</td>\n      <td>...</td>\n      <td>...</td>\n      <td>...</td>\n      <td>...</td>\n      <td>...</td>\n      <td>...</td>\n    </tr>\n    <tr>\n      <th>39951</th>\n      <td>39951</td>\n      <td>10450</td>\n      <td>12</td>\n      <td>6</td>\n      <td>266.88</td>\n      <td>44.48</td>\n      <td>0.0</td>\n      <td>44.43</td>\n      <td>2018-07-10</td>\n      <td>182</td>\n      <td>227</td>\n      <td>0.00</td>\n      <td>8</td>\n      <td>44</td>\n      <td>8</td>\n      <td>36.78</td>\n    </tr>\n    <tr>\n      <th>39952</th>\n      <td>39952</td>\n      <td>10459</td>\n      <td>8</td>\n      <td>1</td>\n      <td>14.71</td>\n      <td>14.71</td>\n      <td>NaN</td>\n      <td>14.71</td>\n      <td>NaN</td>\n      <td>180</td>\n      <td>253</td>\n      <td>0.00</td>\n      <td>8</td>\n      <td>44</td>\n      <td>8</td>\n      <td>56.57</td>\n    </tr>\n    <tr>\n      <th>39953</th>\n      <td>39953</td>\n      <td>10460</td>\n      <td>7</td>\n      <td>1</td>\n      <td>325.67</td>\n      <td>325.67</td>\n      <td>NaN</td>\n      <td>325.67</td>\n      <td>NaN</td>\n      <td>0</td>\n      <td>253</td>\n      <td>0.00</td>\n      <td>8</td>\n      <td>44</td>\n      <td>8</td>\n      <td>163.81</td>\n    </tr>\n    <tr>\n      <th>39954</th>\n      <td>39954</td>\n      <td>10462</td>\n      <td>7</td>\n      <td>1</td>\n      <td>304.30</td>\n      <td>304.30</td>\n      <td>NaN</td>\n      <td>304.30</td>\n      <td>NaN</td>\n      <td>180</td>\n      <td>253</td>\n      <td>0.00</td>\n      <td>8</td>\n      <td>44</td>\n      <td>8</td>\n      <td>166.97</td>\n    </tr>\n    <tr>\n      <th>39955</th>\n      <td>39955</td>\n      <td>10463</td>\n      <td>10</td>\n      <td>1</td>\n      <td>282.16</td>\n      <td>282.16</td>\n      <td>NaN</td>\n      <td>282.16</td>\n      <td>NaN</td>\n      <td>0</td>\n      <td>253</td>\n      <td>0.00</td>\n      <td>8</td>\n      <td>44</td>\n      <td>8</td>\n      <td>154.82</td>\n    </tr>\n  </tbody>\n</table>\n<p>39956 rows × 16 columns</p>\n</div>"
     },
     "metadata": {},
     "execution_count": 4
    }
   ],
   "source": [
    "train"
   ]
  },
  {
   "cell_type": "code",
   "execution_count": 2,
   "metadata": {},
   "outputs": [],
   "source": [
    "orders[\"time\"] = pd.to_datetime(orders[\"time\"])\n",
    "orders[\"weekNumber\"] = -1\n",
    "for i in range(0,13):\n",
    "    orders[\"weekNumber\"][(orders[\"time\"] > (pd.to_datetime(\"2018-01-01\") + timedelta(days=(14*i)))) & (orders[\"time\"] < (pd.to_datetime(\"2018-01-01\") + timedelta(days=(14*(i+1)))))] = i\n",
    ""
   ]
  },
  {
   "cell_type": "code",
   "execution_count": 3,
   "metadata": {},
   "outputs": [],
   "source": [
    "gp = orders.groupby([\"itemID\"]).agg({\"order\": \"sum\", \"salesPrice\": [\"sum\", \"mean\", \"std\"]})"
   ]
  },
  {
   "cell_type": "code",
   "execution_count": 4,
   "metadata": {},
   "outputs": [
    {
     "output_type": "execute_result",
     "data": {
      "text/plain": "9840"
     },
     "metadata": {},
     "execution_count": 4
    }
   ],
   "source": [
    "len(gp)"
   ]
  },
  {
   "cell_type": "code",
   "execution_count": 5,
   "metadata": {},
   "outputs": [
    {
     "output_type": "execute_result",
     "data": {
      "text/plain": "10463"
     },
     "metadata": {},
     "execution_count": 5
    }
   ],
   "source": [
    "len(items)"
   ]
  },
  {
   "cell_type": "markdown",
   "metadata": {},
   "source": [
    "Here we can see that we have a lot of items that are not being selled. These items are new? Lets take a look on the data splitted into two weeks:"
   ]
  },
  {
   "cell_type": "code",
   "execution_count": 6,
   "metadata": {},
   "outputs": [],
   "source": [
    "\n",
    "t2w = pd.read_csv(\"data/train2weeksWithOrder.csv\")"
   ]
  },
  {
   "cell_type": "code",
   "execution_count": 7,
   "metadata": {},
   "outputs": [
    {
     "output_type": "execute_result",
     "data": {
      "text/plain": "       itemID  weekNumber  order|sum  salesPrice|sum  salesPrice|mean  \\\n0           1           1          2            6.22             3.11   \n1           1           2        314          811.71             3.11   \n2           1           3         35           99.52             3.11   \n3           1           4          2            6.22             3.11   \n4           1           5          1            3.11             3.11   \n...       ...         ...        ...             ...              ...   \n39951   10450          12          6          266.88            44.48   \n39952   10459           8          1           14.71            14.71   \n39953   10460           7          1          325.67           325.67   \n39954   10462           7          1          304.30           304.30   \n39955   10463          10          1          282.16           282.16   \n\n       salesPrice|std  \n0                 0.0  \n1                 0.0  \n2                 0.0  \n3                 0.0  \n4                 NaN  \n...               ...  \n39951             0.0  \n39952             NaN  \n39953             NaN  \n39954             NaN  \n39955             NaN  \n\n[39956 rows x 6 columns]",
      "text/html": "<div>\n<style scoped>\n    .dataframe tbody tr th:only-of-type {\n        vertical-align: middle;\n    }\n\n    .dataframe tbody tr th {\n        vertical-align: top;\n    }\n\n    .dataframe thead th {\n        text-align: right;\n    }\n</style>\n<table border=\"1\" class=\"dataframe\">\n  <thead>\n    <tr style=\"text-align: right;\">\n      <th></th>\n      <th>itemID</th>\n      <th>weekNumber</th>\n      <th>order|sum</th>\n      <th>salesPrice|sum</th>\n      <th>salesPrice|mean</th>\n      <th>salesPrice|std</th>\n    </tr>\n  </thead>\n  <tbody>\n    <tr>\n      <th>0</th>\n      <td>1</td>\n      <td>1</td>\n      <td>2</td>\n      <td>6.22</td>\n      <td>3.11</td>\n      <td>0.0</td>\n    </tr>\n    <tr>\n      <th>1</th>\n      <td>1</td>\n      <td>2</td>\n      <td>314</td>\n      <td>811.71</td>\n      <td>3.11</td>\n      <td>0.0</td>\n    </tr>\n    <tr>\n      <th>2</th>\n      <td>1</td>\n      <td>3</td>\n      <td>35</td>\n      <td>99.52</td>\n      <td>3.11</td>\n      <td>0.0</td>\n    </tr>\n    <tr>\n      <th>3</th>\n      <td>1</td>\n      <td>4</td>\n      <td>2</td>\n      <td>6.22</td>\n      <td>3.11</td>\n      <td>0.0</td>\n    </tr>\n    <tr>\n      <th>4</th>\n      <td>1</td>\n      <td>5</td>\n      <td>1</td>\n      <td>3.11</td>\n      <td>3.11</td>\n      <td>NaN</td>\n    </tr>\n    <tr>\n      <th>...</th>\n      <td>...</td>\n      <td>...</td>\n      <td>...</td>\n      <td>...</td>\n      <td>...</td>\n      <td>...</td>\n    </tr>\n    <tr>\n      <th>39951</th>\n      <td>10450</td>\n      <td>12</td>\n      <td>6</td>\n      <td>266.88</td>\n      <td>44.48</td>\n      <td>0.0</td>\n    </tr>\n    <tr>\n      <th>39952</th>\n      <td>10459</td>\n      <td>8</td>\n      <td>1</td>\n      <td>14.71</td>\n      <td>14.71</td>\n      <td>NaN</td>\n    </tr>\n    <tr>\n      <th>39953</th>\n      <td>10460</td>\n      <td>7</td>\n      <td>1</td>\n      <td>325.67</td>\n      <td>325.67</td>\n      <td>NaN</td>\n    </tr>\n    <tr>\n      <th>39954</th>\n      <td>10462</td>\n      <td>7</td>\n      <td>1</td>\n      <td>304.30</td>\n      <td>304.30</td>\n      <td>NaN</td>\n    </tr>\n    <tr>\n      <th>39955</th>\n      <td>10463</td>\n      <td>10</td>\n      <td>1</td>\n      <td>282.16</td>\n      <td>282.16</td>\n      <td>NaN</td>\n    </tr>\n  </tbody>\n</table>\n<p>39956 rows × 6 columns</p>\n</div>"
     },
     "metadata": {},
     "execution_count": 7
    }
   ],
   "source": [
    "t2w"
   ]
  },
  {
   "cell_type": "code",
   "execution_count": null,
   "metadata": {},
   "outputs": [],
   "source": [
    "gp = t2w.merge(infos, on=\"itemID\", how=\"left\")"
   ]
  }
 ]
}